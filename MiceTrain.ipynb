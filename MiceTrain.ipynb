{
  "cells": [
    {
      "cell_type": "code",
      "execution_count": null,
      "metadata": {
        "id": "9UoMxG_YI2gz",
        "colab": {
          "base_uri": "https://localhost:8080/"
        },
        "outputId": "63e4556a-4ecf-4966-9bad-c32c1c3d222b"
      },
      "outputs": [
        {
          "output_type": "stream",
          "name": "stdout",
          "text": [
            "Drive already mounted at /content/drive; to attempt to forcibly remount, call drive.mount(\"/content/drive\", force_remount=True).\n"
          ]
        }
      ],
      "source": [
        "# run if using google colab\n",
        "from google.colab import drive\n",
        "drive.mount('/content/drive')\n",
        "\n",
        "import os\n",
        "os.chdir('/content/drive/MyDrive/FCN')"
      ]
    },
    {
      "cell_type": "code",
      "execution_count": null,
      "metadata": {
        "id": "hgLADaaxIRS9"
      },
      "outputs": [],
      "source": [
        "import numpy as np\n",
        "import cv2\n",
        "import tensorflow as tf\n",
        "from tensorflow import keras\n",
        "from tensorflow.compat.v1.losses import softmax_cross_entropy\n",
        "from tensorflow.keras import regularizers, initializers, Input, Model\n",
        "from tensorflow.keras.layers import MaxPool2D, Conv2D, Conv2DTranspose, Lambda, Dropout, Add, UpSampling2D\n",
        "from tensorflow.keras.metrics import MeanIoU\n",
        "import matplotlib.pyplot as plt\n",
        "import pickle\n",
        "import os\n",
        "from sklearn.model_selection import train_test_split\n",
        "\n",
        "#import data, models\n",
        "\n",
        "# for auto-reloading external modules\n",
        "%load_ext autoreload\n",
        "%autoreload 2"
      ]
    },
    {
      "cell_type": "code",
      "source": [
        "def split_dataset(DATASET_PATH='rats_data', holdout=0.8):\n",
        "    images = []\n",
        "    labels = []\n",
        "\n",
        "    treatments = os.listdir(DATASET_PATH)\n",
        "    for treatment in treatments:\n",
        "        if treatment == 'CIC' or treatment == 'PDX':\n",
        "            days = os.listdir(os.path.join(DATASET_PATH, treatment))\n",
        "            for day in days:\n",
        "                animals = os.listdir(os.path.join(DATASET_PATH, treatment, day))\n",
        "                for animal in animals:\n",
        "                    path = os.path.join(DATASET_PATH, treatment, day, animal)\n",
        "                    images.append(os.path.join(path, animal+'.png'))\n",
        "                    labels.append(os.path.join(path, animal+'_label.png'))\n",
        "        else:\n",
        "            doses = os.listdir(os.path.join(DATASET_PATH, treatment))\n",
        "            for dose in doses:\n",
        "                days = os.listdir(os.path.join(DATASET_PATH, treatment, dose))\n",
        "                for day in days:\n",
        "                    animals = os.listdir(os.path.join(DATASET_PATH, treatment, dose, day))\n",
        "                    for animal in animals:\n",
        "                        path = os.path.join(DATASET_PATH, treatment, dose, day, animal)\n",
        "                        images.append(os.path.join(path, animal+'.png'))\n",
        "                        labels.append(os.path.join(path, animal+'_label.png'))\n",
        "\n",
        "    return train_test_split(images, labels, test_size=1-holdout, random_state=np.random.randint(0,1000000))\n"
      ],
      "metadata": {
        "id": "tHgcVg9y4516"
      },
      "execution_count": null,
      "outputs": []
    },
    {
      "cell_type": "code",
      "source": [
        "def vgg16(weight_decay=0, dropout=0.5):\n",
        "    '''\n",
        "    VGG16 network\n",
        "    \n",
        "    args:\n",
        "        weight_decay = L2 regularization factor (float), weight_decay=0 by default\n",
        "        dropout = dropout rate (float), dropout=0.5 by default\n",
        "        classes = number of classes\n",
        "    return:\n",
        "        Keras model\n",
        "    '''\n",
        "    \n",
        "    ##Input as keras tensor\n",
        "    input = Input(shape=(None, None, 3), name='input')\n",
        "\n",
        "    ##Block 1 - 64 filters\n",
        "    x = Conv2D(filters = 64,\n",
        "                kernel_size=(3,3),\n",
        "                padding='same',\n",
        "                activation='relu',\n",
        "                kernel_regularizer=regularizers.L2(l2=weight_decay),\n",
        "                name='Conv1-1')(input)\n",
        "\n",
        "    x = Conv2D(filters=64,\n",
        "                kernel_size=(3,3),\n",
        "                padding='same',\n",
        "                activation='relu',\n",
        "                kernel_regularizer=regularizers.L2(l2=weight_decay),\n",
        "                name='Conv1-2')(x)\n",
        "\n",
        "    x = MaxPool2D(pool_size=(2,2),\n",
        "                    strides=(2,2),\n",
        "                    name='Pool1')(x)\n",
        "\n",
        "    ##Block 2 - 128 filters\n",
        "    x = Conv2D(filters=128,\n",
        "                kernel_size=(3,3),\n",
        "                padding='same',\n",
        "                activation='relu',\n",
        "                kernel_regularizer=regularizers.L2(l2=weight_decay),\n",
        "                name='Conv2-1')(x)\n",
        "\n",
        "    x = Conv2D(filters=128,\n",
        "                kernel_size=(3,3),\n",
        "                padding='same',\n",
        "                activation='relu',\n",
        "                kernel_regularizer=regularizers.L2(l2=weight_decay),\n",
        "                name='Conv2-2')(x)\n",
        "    \n",
        "    x = MaxPool2D(pool_size=(2,2),\n",
        "                    strides=(2,2),\n",
        "                    name='Pool2')(x)\n",
        "    \n",
        "    ##Block 3 - 256 filters\n",
        "    x = Conv2D(filters=256,\n",
        "                kernel_size=(3,3),\n",
        "                padding='same',\n",
        "                activation='relu',\n",
        "                kernel_regularizer=regularizers.L2(l2=weight_decay),\n",
        "                name='Conv3-1')(x)\n",
        "\n",
        "    x = Conv2D(filters=256,\n",
        "                kernel_size=(3,3),\n",
        "                padding='same',\n",
        "                activation='relu',\n",
        "                kernel_regularizer=regularizers.L2(l2=weight_decay),\n",
        "                name='Conv3-2')(x)\n",
        "\n",
        "    x = Conv2D(filters=256,\n",
        "                kernel_size=(3,3),\n",
        "                padding='same',\n",
        "                activation='relu',\n",
        "                kernel_regularizer=regularizers.L2(l2=weight_decay),\n",
        "                name='Conv3-3')(x)\n",
        "\n",
        "    x = MaxPool2D(pool_size=(2,2),\n",
        "                    strides=(2,2),\n",
        "                    name='Pool3')(x)\n",
        "\n",
        "    ##Block 4 - 512 filters\n",
        "    x = Conv2D(filters=512,\n",
        "                kernel_size=(3,3),\n",
        "                padding='same',\n",
        "                activation='relu',\n",
        "                kernel_regularizer=regularizers.L2(l2=weight_decay),\n",
        "                name='Conv4-1')(x)\n",
        "\n",
        "    x = Conv2D(filters=512,\n",
        "                kernel_size=(3,3),\n",
        "                padding='same',\n",
        "                activation='relu',\n",
        "                kernel_regularizer=regularizers.L2(l2=weight_decay),\n",
        "                name='Conv4-2')(x)\n",
        "\n",
        "    x = Conv2D(filters=512,\n",
        "                kernel_size=(3,3),\n",
        "                padding='same',\n",
        "                activation='relu',\n",
        "                kernel_regularizer=regularizers.L2(l2=weight_decay),\n",
        "                name='Conv4-3')(x)\n",
        "\n",
        "    x = MaxPool2D(pool_size=(2,2),\n",
        "                    strides=(2,2),\n",
        "                    name='Pool4')(x)\n",
        "\n",
        "    ##Block 5 - 512 filters\n",
        "    x = Conv2D(filters=512,\n",
        "                kernel_size=(3,3),\n",
        "                padding='same',\n",
        "                activation='relu',\n",
        "                kernel_regularizer=regularizers.L2(l2=weight_decay),\n",
        "                name='Conv5-1')(x)\n",
        "\n",
        "    x = Conv2D(filters=512,\n",
        "                kernel_size=(3,3),\n",
        "                padding='same',\n",
        "                activation='relu',\n",
        "                kernel_regularizer=regularizers.L2(l2=weight_decay),\n",
        "                name='Conv5-2')(x)\n",
        "\n",
        "    x = Conv2D(filters=512,\n",
        "                kernel_size=(3,3),\n",
        "                padding='same',\n",
        "                activation='relu',\n",
        "                kernel_regularizer=regularizers.L2(l2=weight_decay),\n",
        "                name='Conv5-3')(x)\n",
        "\n",
        "    x = MaxPool2D(pool_size=(2,2),\n",
        "                    strides=(2,2),\n",
        "                    name='Pool5')(x)\n",
        "\n",
        "    ## FC --> Convolutionized Fully Connected Layers\n",
        "\n",
        "    x = Conv2D(filters=4096, \n",
        "                kernel_size=(7,7), \n",
        "                strides=(1,1), \n",
        "                padding='same', \n",
        "                activation='relu',\n",
        "                kernel_regularizer=regularizers.L2(l2=weight_decay), \n",
        "                name='conv6')(x)\n",
        "\n",
        "    x = Dropout(rate=dropout, name='drop-conv6')(x)\n",
        "\n",
        "    x = Conv2D(filters=4096, \n",
        "                kernel_size=(1,1), \n",
        "                strides=(1,1), \n",
        "                padding='same', \n",
        "                activation='relu',\n",
        "                kernel_regularizer=regularizers.L2(l2=weight_decay), \n",
        "                name='conv7')(x)\n",
        "\n",
        "    x = Dropout(rate=dropout, name='drop-conv7')(x)\n",
        "\n",
        "    return Model(input, x)\n",
        "\n",
        "\n",
        "\n",
        "def fcn32s(vgg16, weight_decay=0):\n",
        "    '''\n",
        "    32x upsampled\n",
        "    \n",
        "    Args:\n",
        "        vgg16: VGG16 model\n",
        "        fcn16: FCN16 model\n",
        "        weight_decay = L2 regularization factor (float), weight_decay=0 by default\n",
        "    returns:\n",
        "        keras model\n",
        "    '''\n",
        "\n",
        "    x = Conv2D(filters=3, \n",
        "                kernel_size=(1,1), \n",
        "                strides=(1,1), \n",
        "                padding='same', \n",
        "                activation='linear',\n",
        "                kernel_regularizer=regularizers.L2(l2=weight_decay),\n",
        "                name='score-conv7')(vgg16.get_layer('drop-conv7').output)\n",
        "\n",
        "    x = UpSampling2D(size=(32,32), interpolation='bilinear', name='upsample-32')(x)\n",
        "\n",
        "    x = Conv2D(filters=3, \n",
        "                kernel_size=(1,1),\n",
        "                strides=(1,1),\n",
        "                padding='same',\n",
        "                activation='linear',\n",
        "                kernel_regularizer=regularizers.L2(l2=weight_decay),\n",
        "                name='FCN32s')(x)\n",
        "\n",
        "    return Model(vgg16.input, x)\n",
        "\n",
        "\n",
        "\n",
        "def fcn16s(vgg16, fcn32, weight_decay=0):\n",
        "    '''\n",
        "    16x upsampled \n",
        "    \n",
        "    Args:\n",
        "        vgg16: VGG16 custom keras model\n",
        "        fcn32: FCN32 custom keras model\n",
        "        weight_decay = L2 regularization factor (float), weight_decay=0 by default\n",
        "    returns:\n",
        "        keras model\n",
        "    '''\n",
        "    x = UpSampling2D(size=(2,2), interpolation='bilinear')(vgg16.get_layer('drop-conv7').output)\n",
        "\n",
        "    x = Conv2D(filters=21, \n",
        "                kernel_size=(1,1),\n",
        "                strides=(1,1),\n",
        "                padding='same',\n",
        "                activation='linear',\n",
        "                kernel_regularizer=regularizers.L2(l2=weight_decay),\n",
        "                name='upsample-conv7')(x)\n",
        "\n",
        "    y = Conv2D(filters=21, \n",
        "                kernel_size=(1,1), \n",
        "                strides=(1,1),\n",
        "                padding='same',  \n",
        "                activation='linear',\n",
        "                kernel_initializer=initializers.Zeros(), #Net starts with unmodified predictions\n",
        "                kernel_regularizer=regularizers.l2(l2=weight_decay) \n",
        "                )(vgg16.get_layer('Pool4').output)\n",
        "\n",
        "    m = Add(name='step4')([x,y]) ##fusion\n",
        "\n",
        "    m  = UpSampling2D(size=(16,16), interpolation='bilinear', name='FCN16s')(m)\n",
        "\n",
        "    x = Conv2D(filters=21, \n",
        "                kernel_size=(1,1),\n",
        "                strides=(1,1),\n",
        "                padding='same',\n",
        "                activation='linear',\n",
        "                kernel_regularizer=regularizers.L2(l2=weight_decay),\n",
        "                name='FCN16s')(m)\n",
        "\n",
        "    return Model(fcn32.input, m)\n",
        "\n",
        "    \n",
        "\n",
        "def fcn8s(vgg16, fcn16, weight_decay=0):\n",
        "    '''\n",
        "    8x upsampled\n",
        "    \n",
        "    Args:\n",
        "        vgg16: VGG16 custom keras model\n",
        "        fcn16: FCN16 custom keras model\n",
        "        weight_decay = L2 regularization factor (float), weight_decay=0 by default\n",
        "    returns:\n",
        "        keras model\n",
        "    '''\n",
        "\n",
        "    x = UpSampling2D(size=(2,2), interpolation='bilinear', name='upsampled-step4')(fcn16.get_layer('step4').output)\n",
        "\n",
        "    x = Conv2D(filters=21, \n",
        "                kernel_size=(1,1),\n",
        "                strides=(1,1),\n",
        "                padding='same',\n",
        "                activation='linear',\n",
        "                kernel_regularizer=regularizers.L2(l2=weight_decay),\n",
        "                name='upsample-step4')(x)\n",
        "\n",
        "    y = Conv2D(filters=21, \n",
        "                kernel_size=(1,1), \n",
        "                strides=(1,1), \n",
        "                padding='same', \n",
        "                activation='linear', \n",
        "                kernel_regularizer=regularizers.l2(l2=weight_decay), \n",
        "                )(vgg16.get_layer('Pool3').output)\n",
        "\n",
        "    m = Add(name='step3')([x,y])\n",
        "\n",
        "    m = UpSampling2D(size=(8,8), interpolation='bilinear', name='upsampled-step4')(fcn16.get_layer('step4').output)\n",
        "\n",
        "    m = Conv2D(filters=21, \n",
        "                kernel_size=(1,1),\n",
        "                strides=(1,1),\n",
        "                padding='same',\n",
        "                activation='linear',\n",
        "                kernel_regularizer=regularizers.L2(l2=weight_decay),\n",
        "                name='upsample-step4')(m)\n",
        "\n",
        "    return Model(fcn16.input, m)"
      ],
      "metadata": {
        "id": "J7XtRaAu5F4S"
      },
      "execution_count": null,
      "outputs": []
    },
    {
      "cell_type": "markdown",
      "metadata": {
        "id": "mAiz-3SOdAAQ"
      },
      "source": [
        "# Models"
      ]
    },
    {
      "cell_type": "code",
      "execution_count": null,
      "metadata": {
        "id": "j3ltEpoDvCDm"
      },
      "outputs": [],
      "source": [
        "## VGG16 base model\n",
        "vgg_model = vgg16(weight_decay=1e-6, dropout=0.2)"
      ]
    },
    {
      "cell_type": "code",
      "execution_count": null,
      "metadata": {
        "id": "IF2oJ7aQtaY_"
      },
      "outputs": [],
      "source": [
        "## FCN32\n",
        "fcn32 = fcn32s(vgg_model, weight_decay=1e-6)\n",
        "\n",
        "## freeze upsample layer\n",
        "fcn32.get_layer('FCN32s').trainable=False"
      ]
    },
    {
      "cell_type": "code",
      "execution_count": null,
      "metadata": {
        "id": "FoTVM3R0mjtU"
      },
      "outputs": [],
      "source": [
        "## FCN16\n",
        "fcn16 = fcn16s(vgg_model, fcn32, weight_decay=1e-6)\n",
        "\n",
        "## freeze upsample layer\n",
        "fcn16.get_layer('upsample-conv7').trainable=False\n",
        "fcn16.get_layer('FCN16s').trainable=False"
      ]
    },
    {
      "cell_type": "code",
      "execution_count": null,
      "metadata": {
        "id": "F0vo4Gsvj0X0"
      },
      "outputs": [],
      "source": [
        "## FCN8\n",
        "fcn8 = fcn8s(vgg_model, fcn16, weight_decay=1e-6)\n",
        "\n",
        "## freeze upsample layer\n",
        "fcn8.get_layer('upsample-step4').trainable=False"
      ]
    },
    {
      "cell_type": "markdown",
      "metadata": {
        "id": "32a1gcKSdDRF"
      },
      "source": [
        "# Training"
      ]
    },
    {
      "cell_type": "code",
      "execution_count": null,
      "metadata": {
        "id": "TAX868FY3ODw"
      },
      "outputs": [],
      "source": [
        "# Some important metrics\n",
        "\n",
        "# get it from: https://github.com/kevinddchen/Keras-FCN/blob/main/models.py\n",
        "\n",
        "def crossentropy(y_true, y_pred_onehot):\n",
        "    '''Custom cross-entropy to handle borders (class = -1).'''\n",
        "    n_valid = tf.math.reduce_sum(tf.cast(y_true != 255, tf.float32))\n",
        "    y_true_onehot = tf.cast(np.arange(21) == y_true, tf.float32)\n",
        "    return tf.reduce_sum(-y_true_onehot * tf.math.log(y_pred_onehot + 1e-7)) / n_valid"
      ]
    },
    {
      "cell_type": "code",
      "source": [
        "def pixelacc(y_true, y_pred_onehot):\n",
        "    '''Custom pixel accuracy to handle borders (class = -1).'''\n",
        "    n_valid = tf.math.reduce_sum(tf.cast(y_true != 255, tf.float32))\n",
        "    y_true = tf.cast(y_true, tf.int32)[..., 0]\n",
        "    y_pred = tf.argmax(y_pred_onehot, axis=-1, output_type=tf.int32)\n",
        "    return tf.reduce_sum(tf.cast(y_true == y_pred, tf.float32)) / n_valid"
      ],
      "metadata": {
        "id": "1Rccnptv-tsZ"
      },
      "execution_count": null,
      "outputs": []
    },
    {
      "cell_type": "code",
      "source": [
        "class MyMeanIoU(keras.metrics.MeanIoU):\n",
        "    '''Custom meanIoU to handle borders (class = -1).'''\n",
        "    def update_state(self, y_true, y_pred_onehot, sample_weight=None):\n",
        "        y_pred = tf.argmax(y_pred_onehot, axis=-1)\n",
        "        ## add 1 so boundary class=0\n",
        "        y_true = tf.cast(y_true+1, self._dtype)\n",
        "        y_pred = tf.cast(y_pred+1, self._dtype)\n",
        "        ## Flatten the input if its rank > 1.\n",
        "        if y_pred.shape.ndims > 1:\n",
        "            y_pred = tf.reshape(y_pred, [-1])\n",
        "        if y_true.shape.ndims > 1:\n",
        "            y_true = tf.reshape(y_true, [-1])\n",
        "        ## calculate confusion matrix with one extra class\n",
        "        current_cm = tf.math.confusion_matrix(\n",
        "            y_true,\n",
        "            y_pred,\n",
        "            self.num_classes+1,\n",
        "            weights=sample_weight,\n",
        "            dtype=self._dtype)\n",
        "        return self.total_cm.assign_add(current_cm[1:, 1:])"
      ],
      "metadata": {
        "id": "M9dMHSFz-r27"
      },
      "execution_count": null,
      "outputs": []
    },
    {
      "cell_type": "code",
      "execution_count": null,
      "metadata": {
        "id": "sT6GMTk5naAh"
      },
      "outputs": [],
      "source": [
        "## Load model\n",
        "model = fcn32\n",
        "model.summary()"
      ]
    },
    {
      "cell_type": "code",
      "source": [
        "## Train and test datasets\n",
        "X_train, X_test, y_train, y_test = split_dataset('/content/drive/MyDrive/rats_data', holdout=0.8)"
      ],
      "metadata": {
        "id": "_YJSjeho541h"
      },
      "execution_count": null,
      "outputs": []
    },
    {
      "cell_type": "code",
      "source": [
        "X_train_images = []\n",
        "for image in X_train:\n",
        "  img = cv2.imread(image)\n",
        "  img = cv2.cvtColor(img, cv2.COLOR_BGR2RGB)\n",
        "  X_train_images.append(img)"
      ],
      "metadata": {
        "id": "g5V6G6ep5-KZ"
      },
      "execution_count": null,
      "outputs": []
    },
    {
      "cell_type": "code",
      "source": [
        "X_test_images = []\n",
        "for image in X_test:\n",
        "  img = cv2.imread(image)\n",
        "  img = cv2.cvtColor(img, cv2.COLOR_BGR2RGB)\n",
        "  X_test_images.append(img)"
      ],
      "metadata": {
        "id": "DB-tffcb5-Uh"
      },
      "execution_count": null,
      "outputs": []
    },
    {
      "cell_type": "code",
      "source": [
        "y_train_images = []\n",
        "for image in y_train:\n",
        "  img = cv2.imread(image)\n",
        "  img = cv2.cvtColor(img, cv2.COLOR_BGR2RGB)\n",
        "  y_train_images.append(img)"
      ],
      "metadata": {
        "id": "3G9krX2F5-cQ"
      },
      "execution_count": null,
      "outputs": []
    },
    {
      "cell_type": "code",
      "source": [
        "y_test_images = []\n",
        "for image in y_test:\n",
        "  img = cv2.imread(image)\n",
        "  img = cv2.cvtColor(img, cv2.COLOR_BGR2RGB)\n",
        "  y_test_images.append(img)"
      ],
      "metadata": {
        "id": "WgCdDPH85-ip"
      },
      "execution_count": null,
      "outputs": []
    },
    {
      "cell_type": "code",
      "source": [
        "#checking the data\n",
        "\n",
        "n = 4\n",
        "plt.figure(figsize=(25, 25))\n",
        "for i in range(n):\n",
        "  plt.subplot(4, 2, 2*i+1)\n",
        "  plt.imshow(X_train_images[i], )\n",
        "  plt.subplot(4, 2, 2*i+2)\n",
        "  plt.imshow(y_train_images[i])"
      ],
      "metadata": {
        "id": "jeI7VAmOI04A"
      },
      "execution_count": null,
      "outputs": []
    },
    {
      "cell_type": "code",
      "execution_count": null,
      "metadata": {
        "id": "kZpFcp3-m990"
      },
      "outputs": [],
      "source": [
        "X_train_images = tf.convert_to_tensor(X_train_images)\n",
        "y_train_images = tf.convert_to_tensor(y_train_images)\n",
        "X_test_images = tf.convert_to_tensor(X_test_images)\n",
        "y_test_images = tf.convert_to_tensor(y_test_images)"
      ]
    },
    {
      "cell_type": "code",
      "source": [
        "## compile\n",
        "opt = keras.optimizers.Adam(learning_rate=1e-4)\n",
        "loss = crossentropy\n",
        "metrics = [loss,\n",
        "           pixelacc,\n",
        "           MyMeanIoU(num_classes=2, name='meanIoU')]\n",
        "model.compile(optimizer=opt, loss=loss, metrics=metrics)"
      ],
      "metadata": {
        "id": "3Lbt_JX26iBJ"
      },
      "execution_count": null,
      "outputs": []
    },
    {
      "cell_type": "code",
      "source": [
        "history = model.fit(X_train_images, y_train_images, batch_size=1, epochs=20, verbose=1)"
      ],
      "metadata": {
        "id": "Py_E7-3Ctpzf"
      },
      "execution_count": null,
      "outputs": []
    }
  ],
  "metadata": {
    "accelerator": "GPU",
    "colab": {
      "collapsed_sections": [],
      "name": "MiceTrain.ipynb",
      "provenance": []
    },
    "gpuClass": "standard",
    "interpreter": {
      "hash": "ed3943dba37f3ed717092a780584c496f36863d6c99891baccd6632ecc02cdda"
    },
    "kernelspec": {
      "display_name": "Python 3.10.3 64-bit",
      "language": "python",
      "name": "python3"
    },
    "language_info": {
      "codemirror_mode": {
        "name": "ipython",
        "version": 3
      },
      "file_extension": ".py",
      "mimetype": "text/x-python",
      "name": "python",
      "nbconvert_exporter": "python",
      "pygments_lexer": "ipython3",
      "version": "3.10.3"
    }
  },
  "nbformat": 4,
  "nbformat_minor": 0
}